{
 "cells": [
  {
   "cell_type": "markdown",
   "metadata": {},
   "source": [
    "# Introduction\n",
    "\n",
    "Given a word token and a corpus where this word appears, this package helps you find and analyze the context in which the word appears. It can be easily leveraged to improve your bag-of-words based analysis."
   ]
  },
  {
   "cell_type": "markdown",
   "metadata": {},
   "source": [
    "# Installation\n",
    "\n",
    "```\n",
    "pip install contextSearching\n",
    "```"
   ]
  },
  {
   "cell_type": "markdown",
   "metadata": {},
   "source": [
    "# Usage\n",
    "\n",
    "As an example to illustate the usage, we choose the term \"break\" and the Amazon review corpus for Nintendo Switch where people used the term \"break\". \n",
    "\n",
    "From a simple bag-of-words analysis, we know that whenever people mention \"break\", the product is likely to receive a low star-rating. But we do not know what breaks or any other context around \"break.\" "
   ]
  },
  {
   "cell_type": "markdown",
   "metadata": {},
   "source": [
    "### Preparation"
   ]
  },
  {
   "cell_type": "code",
   "execution_count": 8,
   "metadata": {},
   "outputs": [
    {
     "data": {
      "text/html": [
       "<div>\n",
       "<style scoped>\n",
       "    .dataframe tbody tr th:only-of-type {\n",
       "        vertical-align: middle;\n",
       "    }\n",
       "\n",
       "    .dataframe tbody tr th {\n",
       "        vertical-align: top;\n",
       "    }\n",
       "\n",
       "    .dataframe thead th {\n",
       "        text-align: right;\n",
       "    }\n",
       "</style>\n",
       "<table border=\"1\" class=\"dataframe\">\n",
       "  <thead>\n",
       "    <tr style=\"text-align: right;\">\n",
       "      <th></th>\n",
       "      <th>stars</th>\n",
       "      <th>titles</th>\n",
       "      <th>reviews</th>\n",
       "      <th>dates</th>\n",
       "    </tr>\n",
       "  </thead>\n",
       "  <tbody>\n",
       "    <tr>\n",
       "      <th>0</th>\n",
       "      <td>1.0</td>\n",
       "      <td>Already broken parts\\n</td>\n",
       "      <td>Only 3 months later and parts are breaking. Th...</td>\n",
       "      <td>September 13, 2019</td>\n",
       "    </tr>\n",
       "    <tr>\n",
       "      <th>1</th>\n",
       "      <td>1.0</td>\n",
       "      <td>Dock is broken\\n</td>\n",
       "      <td>Hey. This was supposed to work. Dock is broken...</td>\n",
       "      <td>September 11, 2019</td>\n",
       "    </tr>\n",
       "    <tr>\n",
       "      <th>2</th>\n",
       "      <td>5.0</td>\n",
       "      <td>Dependable seller\\n</td>\n",
       "      <td>Arrived on time,  well packed for the trip.  N...</td>\n",
       "      <td>August 10, 2019</td>\n",
       "    </tr>\n",
       "    <tr>\n",
       "      <th>3</th>\n",
       "      <td>1.0</td>\n",
       "      <td>Nintendo Does Not Honor Warranty\\n</td>\n",
       "      <td>My son used this unit for 7 months.  At which ...</td>\n",
       "      <td>August 8, 2019</td>\n",
       "    </tr>\n",
       "    <tr>\n",
       "      <th>4</th>\n",
       "      <td>4.0</td>\n",
       "      <td>Great product, Joycons need work.\\n</td>\n",
       "      <td>Everyone knows the switch is great. I waited a...</td>\n",
       "      <td>August 5, 2019</td>\n",
       "    </tr>\n",
       "  </tbody>\n",
       "</table>\n",
       "</div>"
      ],
      "text/plain": [
       "   stars                               titles  \\\n",
       "0    1.0               Already broken parts\\n   \n",
       "1    1.0                     Dock is broken\\n   \n",
       "2    5.0                  Dependable seller\\n   \n",
       "3    1.0   Nintendo Does Not Honor Warranty\\n   \n",
       "4    4.0  Great product, Joycons need work.\\n   \n",
       "\n",
       "                                             reviews               dates  \n",
       "0  Only 3 months later and parts are breaking. Th...  September 13, 2019  \n",
       "1  Hey. This was supposed to work. Dock is broken...  September 11, 2019  \n",
       "2  Arrived on time,  well packed for the trip.  N...     August 10, 2019  \n",
       "3  My son used this unit for 7 months.  At which ...      August 8, 2019  \n",
       "4  Everyone knows the switch is great. I waited a...      August 5, 2019  "
      ]
     },
     "execution_count": 8,
     "metadata": {},
     "output_type": "execute_result"
    }
   ],
   "source": [
    "\"\"\"\n",
    "Preparation\n",
    "\"\"\"\n",
    "import pandas as pd\n",
    "import numpy as np\n",
    "# read in corpus\n",
    "corpus = pd.read_csv(\"data/switch_w_break.csv\")\n",
    "# define the target token\n",
    "target = \"break\"\n",
    "\n",
    "corpus.head()"
   ]
  },
  {
   "cell_type": "markdown",
   "metadata": {},
   "source": [
    "### Loading the package and initialize the class\n"
   ]
  },
  {
   "cell_type": "code",
   "execution_count": 19,
   "metadata": {},
   "outputs": [],
   "source": [
    "\"\"\"\n",
    "Loading the package and initialize the class\n",
    "\"\"\"\n",
    "from contextSearching import context_searching\n",
    "\n",
    "cs = context_searching(target_token=target,doc=corpus['reviews'],left_window=5,right_window=5,padding_token=\"_empty_\")"
   ]
  },
  {
   "cell_type": "markdown",
   "metadata": {},
   "source": [
    "In additional to the target token and the corpus, the class requires three more inputs: left/right window and padding token.\n",
    "\n",
    "The algorithm takes in the target token and aggresively collect all the words within the specified window. \n",
    "\n",
    "For example, when left_window = 10, it will find the target token within each document of the corpus, then collect all the ten words to the left of the target, recording the relative position. If there is less than 10 words to the left, the algorithm will append the word list with the padding token."
   ]
  },
  {
   "cell_type": "markdown",
   "metadata": {},
   "source": [
    "### Get the Context Probing Matrix\n"
   ]
  },
  {
   "cell_type": "code",
   "execution_count": 37,
   "metadata": {},
   "outputs": [],
   "source": [
    "\"\"\"\n",
    "Get the Context Probing Matrix\n",
    "\"\"\"\n",
    "# Get a list of stopwords\n",
    "from gensim.parsing.preprocessing import STOPWORDS\n",
    "stopwords = list(STOPWORDS)\n",
    "contextPMat = cs.get_context_prob_matrix(stop_words = stopwords,lemmatize=True, stem = False)"
   ]
  },
  {
   "cell_type": "markdown",
   "metadata": {},
   "source": [
    "Assuming we have N documents in the corpus, and left_window and right window are set to 5. The Context Probing Matrix (CPM) is an N by 11 matrix like below:"
   ]
  },
  {
   "cell_type": "code",
   "execution_count": 38,
   "metadata": {},
   "outputs": [
    {
     "data": {
      "text/html": [
       "<div>\n",
       "<style scoped>\n",
       "    .dataframe tbody tr th:only-of-type {\n",
       "        vertical-align: middle;\n",
       "    }\n",
       "\n",
       "    .dataframe tbody tr th {\n",
       "        vertical-align: top;\n",
       "    }\n",
       "\n",
       "    .dataframe thead th {\n",
       "        text-align: right;\n",
       "    }\n",
       "</style>\n",
       "<table border=\"1\" class=\"dataframe\">\n",
       "  <thead>\n",
       "    <tr style=\"text-align: right;\">\n",
       "      <th></th>\n",
       "      <th>-5</th>\n",
       "      <th>-4</th>\n",
       "      <th>-3</th>\n",
       "      <th>-2</th>\n",
       "      <th>-1</th>\n",
       "      <th>0</th>\n",
       "      <th>1</th>\n",
       "      <th>2</th>\n",
       "      <th>3</th>\n",
       "      <th>4</th>\n",
       "      <th>5</th>\n",
       "    </tr>\n",
       "  </thead>\n",
       "  <tbody>\n",
       "    <tr>\n",
       "      <th>0</th>\n",
       "      <td>_empty_</td>\n",
       "      <td>_empty_</td>\n",
       "      <td>_empty_</td>\n",
       "      <td>month</td>\n",
       "      <td>later</td>\n",
       "      <td>break</td>\n",
       "      <td>joy</td>\n",
       "      <td>button</td>\n",
       "      <td>work</td>\n",
       "      <td>replace</td>\n",
       "      <td>_empty_</td>\n",
       "    </tr>\n",
       "    <tr>\n",
       "      <th>1</th>\n",
       "      <td>_empty_</td>\n",
       "      <td>hey</td>\n",
       "      <td>suppose</td>\n",
       "      <td>work</td>\n",
       "      <td>dock</td>\n",
       "      <td>break</td>\n",
       "      <td>replace</td>\n",
       "      <td>dock</td>\n",
       "      <td>pretty</td>\n",
       "      <td>angry</td>\n",
       "      <td>_empty_</td>\n",
       "    </tr>\n",
       "    <tr>\n",
       "      <th>2</th>\n",
       "      <td>_empty_</td>\n",
       "      <td>arrive</td>\n",
       "      <td>time</td>\n",
       "      <td>pack</td>\n",
       "      <td>trip</td>\n",
       "      <td>break</td>\n",
       "      <td>work</td>\n",
       "      <td>great</td>\n",
       "      <td>_empty_</td>\n",
       "      <td>_empty_</td>\n",
       "      <td>_empty_</td>\n",
       "    </tr>\n",
       "    <tr>\n",
       "      <th>3</th>\n",
       "      <td>gadget</td>\n",
       "      <td>year</td>\n",
       "      <td>expensive</td>\n",
       "      <td>relative</td>\n",
       "      <td>function</td>\n",
       "      <td>break</td>\n",
       "      <td>quickly</td>\n",
       "      <td>support</td>\n",
       "      <td>manufacturer</td>\n",
       "      <td>beware</td>\n",
       "      <td>nintendo</td>\n",
       "    </tr>\n",
       "    <tr>\n",
       "      <th>4</th>\n",
       "      <td>issue</td>\n",
       "      <td>real</td>\n",
       "      <td>button</td>\n",
       "      <td>leave</td>\n",
       "      <td>joycon</td>\n",
       "      <td>break</td>\n",
       "      <td>month</td>\n",
       "      <td>fortunately</td>\n",
       "      <td>nintendo</td>\n",
       "      <td>replace</td>\n",
       "      <td>warranty</td>\n",
       "    </tr>\n",
       "  </tbody>\n",
       "</table>\n",
       "</div>"
      ],
      "text/plain": [
       "        -5       -4         -3        -2        -1      0        1  \\\n",
       "0  _empty_  _empty_    _empty_     month     later  break      joy   \n",
       "1  _empty_      hey    suppose      work      dock  break  replace   \n",
       "2  _empty_   arrive       time      pack      trip  break     work   \n",
       "3   gadget     year  expensive  relative  function  break  quickly   \n",
       "4    issue     real     button     leave    joycon  break    month   \n",
       "\n",
       "             2             3        4         5  \n",
       "0       button          work  replace   _empty_  \n",
       "1         dock        pretty    angry   _empty_  \n",
       "2        great       _empty_  _empty_   _empty_  \n",
       "3      support  manufacturer   beware  nintendo  \n",
       "4  fortunately      nintendo  replace  warranty  "
      ]
     },
     "execution_count": 38,
     "metadata": {},
     "output_type": "execute_result"
    }
   ],
   "source": [
    "# We can examine the actual CPM like this:\n",
    "cpm_df = pd.DataFrame(np.array(contextPMat.context_prob_matrix))\n",
    "cpm_df.columns = [str(x) for x in contextPMat.position_idx]\n",
    "cpm_df.head()"
   ]
  },
  {
   "cell_type": "markdown",
   "metadata": {},
   "source": [
    "The column index indicates the relative position. For example, in the first document, the word \"button\" appears rwo words to the right of the target term \"break.\""
   ]
  },
  {
   "cell_type": "markdown",
   "metadata": {},
   "source": [
    "### Get the vocabs dictionary\n"
   ]
  },
  {
   "cell_type": "code",
   "execution_count": 39,
   "metadata": {},
   "outputs": [
    {
     "data": {
      "text/plain": [
       "[-1, -1, -4, -2, -2, -1, -2, 1]"
      ]
     },
     "execution_count": 39,
     "metadata": {},
     "output_type": "execute_result"
    }
   ],
   "source": [
    "\"\"\"\n",
    "Get the vocabs dictionary\n",
    "\"\"\"\n",
    "contextPMat.vocabs['joycon']"
   ]
  },
  {
   "cell_type": "markdown",
   "metadata": {},
   "source": [
    "The .vocabs is a dictionary whose keys are unique tokens collected in constructing the CPM, and the values are lists of recorded relative positions to the target token.\n",
    "\n",
    "In the output above, we see the term \"joycon\" appears 8 times in total within the +- 5 window of the target term. It most often appears on the left side of the target term."
   ]
  },
  {
   "cell_type": "markdown",
   "metadata": {},
   "source": [
    "### Get the statistics table for each term\n"
   ]
  },
  {
   "cell_type": "code",
   "execution_count": 40,
   "metadata": {},
   "outputs": [
    {
     "data": {
      "text/html": [
       "<div>\n",
       "<style scoped>\n",
       "    .dataframe tbody tr th:only-of-type {\n",
       "        vertical-align: middle;\n",
       "    }\n",
       "\n",
       "    .dataframe tbody tr th {\n",
       "        vertical-align: top;\n",
       "    }\n",
       "\n",
       "    .dataframe thead th {\n",
       "        text-align: right;\n",
       "    }\n",
       "</style>\n",
       "<table border=\"1\" class=\"dataframe\">\n",
       "  <thead>\n",
       "    <tr style=\"text-align: right;\">\n",
       "      <th></th>\n",
       "      <th>tokens</th>\n",
       "      <th>mean</th>\n",
       "      <th>variance</th>\n",
       "      <th>abs_mean</th>\n",
       "      <th>count</th>\n",
       "      <th>median</th>\n",
       "    </tr>\n",
       "  </thead>\n",
       "  <tbody>\n",
       "    <tr>\n",
       "      <th>0</th>\n",
       "      <td>month</td>\n",
       "      <td>0.142857</td>\n",
       "      <td>3.979592</td>\n",
       "      <td>1.857143</td>\n",
       "      <td>14</td>\n",
       "      <td>1.0</td>\n",
       "    </tr>\n",
       "    <tr>\n",
       "      <th>1</th>\n",
       "      <td>later</td>\n",
       "      <td>0.000000</td>\n",
       "      <td>2.000000</td>\n",
       "      <td>1.333333</td>\n",
       "      <td>3</td>\n",
       "      <td>-1.0</td>\n",
       "    </tr>\n",
       "    <tr>\n",
       "      <th>2</th>\n",
       "      <td>break</td>\n",
       "      <td>0.186441</td>\n",
       "      <td>0.643206</td>\n",
       "      <td>0.186441</td>\n",
       "      <td>118</td>\n",
       "      <td>0.0</td>\n",
       "    </tr>\n",
       "    <tr>\n",
       "      <th>3</th>\n",
       "      <td>joy</td>\n",
       "      <td>-1.444444</td>\n",
       "      <td>6.024691</td>\n",
       "      <td>2.555556</td>\n",
       "      <td>9</td>\n",
       "      <td>-2.0</td>\n",
       "    </tr>\n",
       "    <tr>\n",
       "      <th>4</th>\n",
       "      <td>button</td>\n",
       "      <td>-0.500000</td>\n",
       "      <td>2.583333</td>\n",
       "      <td>1.500000</td>\n",
       "      <td>6</td>\n",
       "      <td>-1.0</td>\n",
       "    </tr>\n",
       "  </tbody>\n",
       "</table>\n",
       "</div>"
      ],
      "text/plain": [
       "   tokens      mean  variance  abs_mean  count  median\n",
       "0   month  0.142857  3.979592  1.857143     14     1.0\n",
       "1   later  0.000000  2.000000  1.333333      3    -1.0\n",
       "2   break  0.186441  0.643206  0.186441    118     0.0\n",
       "3     joy -1.444444  6.024691  2.555556      9    -2.0\n",
       "4  button -0.500000  2.583333  1.500000      6    -1.0"
      ]
     },
     "execution_count": 40,
     "metadata": {},
     "output_type": "execute_result"
    }
   ],
   "source": [
    "\"\"\"\n",
    "Get the statistics table for each term\n",
    "\"\"\"\n",
    "cpm_stats = contextPMat.get_cpm_stats_tb()\n",
    "cpm_stats.cpm_stats_tb.head()"
   ]
  },
  {
   "cell_type": "markdown",
   "metadata": {},
   "source": [
    "To understand the context, we can look at the statistics of relative positions for each term collected above. \n",
    "\n",
    "For example,\n",
    "\n",
    "When the occurances of a term is high, we know that it always appears around the target token;\n",
    "\n",
    "When the variance of a term's relative position is low, we know that it always appears at the same relative location;"
   ]
  },
  {
   "cell_type": "markdown",
   "metadata": {},
   "source": [
    "### Infer potential N-grams containing the target term\n"
   ]
  },
  {
   "cell_type": "code",
   "execution_count": 43,
   "metadata": {},
   "outputs": [
    {
     "data": {
      "text/html": [
       "<div>\n",
       "<style scoped>\n",
       "    .dataframe tbody tr th:only-of-type {\n",
       "        vertical-align: middle;\n",
       "    }\n",
       "\n",
       "    .dataframe tbody tr th {\n",
       "        vertical-align: top;\n",
       "    }\n",
       "\n",
       "    .dataframe thead th {\n",
       "        text-align: right;\n",
       "    }\n",
       "</style>\n",
       "<table border=\"1\" class=\"dataframe\">\n",
       "  <thead>\n",
       "    <tr style=\"text-align: right;\">\n",
       "      <th></th>\n",
       "      <th>ngram_candidates</th>\n",
       "      <th>total_scores</th>\n",
       "    </tr>\n",
       "  </thead>\n",
       "  <tbody>\n",
       "    <tr>\n",
       "      <th>0</th>\n",
       "      <td>look expensive joycon controller break</td>\n",
       "      <td>0.327352</td>\n",
       "    </tr>\n",
       "    <tr>\n",
       "      <th>1</th>\n",
       "      <td>expensive joycon controller break month</td>\n",
       "      <td>0.330129</td>\n",
       "    </tr>\n",
       "    <tr>\n",
       "      <th>2</th>\n",
       "      <td>joycon controller break month handle</td>\n",
       "      <td>0.337807</td>\n",
       "    </tr>\n",
       "    <tr>\n",
       "      <th>3</th>\n",
       "      <td>controller break month handle inside</td>\n",
       "      <td>0.379144</td>\n",
       "    </tr>\n",
       "    <tr>\n",
       "      <th>4</th>\n",
       "      <td>break month handle inside item</td>\n",
       "      <td>0.447479</td>\n",
       "    </tr>\n",
       "  </tbody>\n",
       "</table>\n",
       "</div>"
      ],
      "text/plain": [
       "                          ngram_candidates  total_scores\n",
       "0   look expensive joycon controller break      0.327352\n",
       "1  expensive joycon controller break month      0.330129\n",
       "2     joycon controller break month handle      0.337807\n",
       "3     controller break month handle inside      0.379144\n",
       "4           break month handle inside item      0.447479"
      ]
     },
     "execution_count": 43,
     "metadata": {},
     "output_type": "execute_result"
    }
   ],
   "source": [
    "\"\"\"\n",
    "Infer potential N-grams containing the term\n",
    "\"\"\"\n",
    "cpm_stats.guess_ngram(n = 5)"
   ]
  },
  {
   "cell_type": "markdown",
   "metadata": {},
   "source": [
    "based on the statistics table, the algorithm can infer most likely n-grams containing the target term\n",
    "\n",
    "For example, when we want to infer what is most likely the word appears to the left of \"break\" (i.e. with relative location = -1), we go through the following steps\n",
    "\n",
    "0. start with a word collected in the CPM constructing process above (e.g. \"controller\")\n",
    "1. for the word, take the mean of the observed relative positions, minus the mean by -1 and take the absolute value\n",
    "2. for the word, take the median of the observed relative positions, minus the median by -1 and take the absolute value\n",
    "3. Calculate 1/count\n",
    "4. Calculate the variance of the relative positions of the word\n",
    "5. Repeat the above on all the collected words and acquire 4 lists of metrics above (abs median difference, abs mean difference, 1/count, variance)\n",
    "6. normalize the 4 lists\n",
    "7. for each collected word, multiply its 4 metrics with user-defined weights and take sum to get a final score\n",
    "\n",
    "The best candidate words at location -1 will have the smallest final score.\n",
    "\n",
    "When we want to find the most likely tri-grams, the algorithm considers a trigram with the target token in each possible location. Thus in the example output above, the target term \"break\" appears as the 5th, 4th, 3rd, 2nd and 1st term on the n-gram respectively."
   ]
  },
  {
   "cell_type": "markdown",
   "metadata": {},
   "source": [
    "Now we get more context around \"break\": \n",
    "\n",
    "**Expensive Joycon Controller breaks in months** seem to be the problem."
   ]
  },
  {
   "cell_type": "markdown",
   "metadata": {},
   "source": [
    "## Some Notes\n",
    "\n",
    "1. Currently, when the target term appears more than once in a single document, the CPM only takes the first one into consideration. I will try to improve this in the near future\n",
    "\n",
    "2. This method works better when we have more documents while each document is short. It will not work well on, for example, a collection of News articles."
   ]
  }
 ],
 "metadata": {
  "kernelspec": {
   "display_name": "Python 3",
   "language": "python",
   "name": "python3"
  },
  "language_info": {
   "codemirror_mode": {
    "name": "ipython",
    "version": 3
   },
   "file_extension": ".py",
   "mimetype": "text/x-python",
   "name": "python",
   "nbconvert_exporter": "python",
   "pygments_lexer": "ipython3",
   "version": "3.7.3"
  }
 },
 "nbformat": 4,
 "nbformat_minor": 2
}
